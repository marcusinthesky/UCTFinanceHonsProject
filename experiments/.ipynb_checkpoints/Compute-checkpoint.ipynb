{
 "cells": [
  {
   "cell_type": "code",
   "execution_count": 1,
   "metadata": {},
   "outputs": [],
   "source": [
    "# The libriaries for this experiment were imported into the python enviroment\n",
    "import os\n",
    "from functools import reduce\n",
    "\n",
    "import numpy as np\n",
    "import scipy as sp\n",
    "import pandas as pd\n",
    "\n",
    "from dask.distributed import Client, LocalCluster\n",
    "import dask.delayed\n",
    "import dask.dataframe as dd\n",
    "\n",
    "from sklearn.feature_extraction import stop_words\n",
    "from sklearn.feature_extraction.stop_words import ENGLISH_STOP_WORDS\n",
    "from sklearn.feature_extraction.text import TfidfVectorizer\n",
    "from sklearn.metrics import pairwise_distances\n",
    "\n",
    "from gensim.models.word2vec import Word2Vec"
   ]
  },
  {
   "cell_type": "markdown",
   "metadata": {},
   "source": [
    "# Cluster"
   ]
  },
  {
   "cell_type": "code",
   "execution_count": 2,
   "metadata": {},
   "outputs": [],
   "source": [
    "cluster = LocalCluster(n_workers=1, threads_per_worker=7)"
   ]
  },
  {
   "cell_type": "code",
   "execution_count": 3,
   "metadata": {},
   "outputs": [
    {
     "data": {
      "text/html": [
       "<table style=\"border: 2px solid white;\">\n",
       "<tr>\n",
       "<td style=\"vertical-align: top; border: 0px solid white\">\n",
       "<h3>Client</h3>\n",
       "<ul>\n",
       "  <li><b>Scheduler: </b>tcp://127.0.0.1:35367\n",
       "  <li><b>Dashboard: </b><a href='http://127.0.0.1:8787/status' target='_blank'>http://127.0.0.1:8787/status</a>\n",
       "</ul>\n",
       "</td>\n",
       "<td style=\"vertical-align: top; border: 0px solid white\">\n",
       "<h3>Cluster</h3>\n",
       "<ul>\n",
       "  <li><b>Workers: </b>1</li>\n",
       "  <li><b>Cores: </b>7</li>\n",
       "  <li><b>Memory: </b>14.67 GB</li>\n",
       "</ul>\n",
       "</td>\n",
       "</tr>\n",
       "</table>"
      ],
      "text/plain": [
       "<Client: scheduler='tcp://127.0.0.1:35367' processes=1 cores=7>"
      ]
     },
     "execution_count": 3,
     "metadata": {},
     "output_type": "execute_result"
    }
   ],
   "source": [
    "client = Client(cluster)\n",
    "\n",
    "client"
   ]
  },
  {
   "cell_type": "markdown",
   "metadata": {},
   "source": [
    "# Parameters"
   ]
  },
  {
   "cell_type": "code",
   "execution_count": 4,
   "metadata": {},
   "outputs": [],
   "source": [
    "days_news = 30"
   ]
  },
  {
   "cell_type": "markdown",
   "metadata": {},
   "source": [
    "# Import"
   ]
  },
  {
   "cell_type": "markdown",
   "metadata": {},
   "source": [
    "Text"
   ]
  },
  {
   "cell_type": "code",
   "execution_count": 5,
   "metadata": {},
   "outputs": [],
   "source": [
    "text_path = os.path.join('..','scraper','News','*.csv')\n",
    "text = dd.read_csv(text_path).dropna()\n",
    "\n",
    "text.date = text.date.astype('M8[D]')\n",
    "\n",
    "text.text = text.text.str.lower().str.replace('[^a-z\\\\.]',' ').str.replace(f\"({' | '.join(ENGLISH_STOP_WORDS)})\",' ').str.split('.').apply(lambda x: [i.split() for i in x], meta='O')\n",
    "\n",
    "text = text.groupby('date').sum()"
   ]
  },
  {
   "cell_type": "code",
   "execution_count": 6,
   "metadata": {},
   "outputs": [],
   "source": [
    "T = text.compute()"
   ]
  },
  {
   "cell_type": "code",
   "execution_count": 7,
   "metadata": {},
   "outputs": [],
   "source": [
    "U = pd.DataFrame(index=pd.date_range(start='2003-05-16', end='2018-05-17')).join(T)\n",
    "\n",
    "U = U.reset_index()\n",
    "\n",
    "U['value'] = range(U.shape[0])\n",
    "\n",
    "U.value = U.value.apply(lambda x: reduce(sum, [ [] if type(i) != list else i for i in [U.text.loc[x-days_news:x].tolist()]]))"
   ]
  },
  {
   "cell_type": "code",
   "execution_count": 8,
   "metadata": {},
   "outputs": [],
   "source": [
    "U = U.set_index('index')"
   ]
  },
  {
   "cell_type": "markdown",
   "metadata": {},
   "source": [
    "Price"
   ]
  },
  {
   "cell_type": "code",
   "execution_count": 9,
   "metadata": {},
   "outputs": [],
   "source": [
    "price_path = os.path.join('..','data','JSE_RI_2003_2008.csv')\n",
    "price = pd.read_csv(price_path,  sep=';', decimal=b',', \n",
    "                    skiprows=1, dtype={'R:ISAJ(RI)': 'float64',\n",
    "                                       'R:PPEJ(RI)': 'float64',\n",
    "                                       'R:ZCIJ(RI)': 'float64'})"
   ]
  },
  {
   "cell_type": "code",
   "execution_count": 10,
   "metadata": {},
   "outputs": [],
   "source": [
    "price = price.drop(labels=price.columns[price.columns.str.startswith('Unnamed:')], axis=1)\n",
    "price.Code = price.Code.astype('M8[D]')"
   ]
  },
  {
   "cell_type": "code",
   "execution_count": 11,
   "metadata": {},
   "outputs": [],
   "source": [
    "price = price.set_index('Code')"
   ]
  },
  {
   "cell_type": "markdown",
   "metadata": {},
   "source": [
    "Descriptions"
   ]
  },
  {
   "cell_type": "code",
   "execution_count": null,
   "metadata": {},
   "outputs": [],
   "source": []
  },
  {
   "cell_type": "markdown",
   "metadata": {},
   "source": [
    "Joins"
   ]
  },
  {
   "cell_type": "code",
   "execution_count": 12,
   "metadata": {},
   "outputs": [],
   "source": [
    "U = price.loc[:,['Code']].join(U, how='left')"
   ]
  },
  {
   "cell_type": "code",
   "execution_count": 13,
   "metadata": {},
   "outputs": [
    {
     "data": {
      "text/html": [
       "<div>\n",
       "<style scoped>\n",
       "    .dataframe tbody tr th:only-of-type {\n",
       "        vertical-align: middle;\n",
       "    }\n",
       "\n",
       "    .dataframe tbody tr th {\n",
       "        vertical-align: top;\n",
       "    }\n",
       "\n",
       "    .dataframe thead th {\n",
       "        text-align: right;\n",
       "    }\n",
       "</style>\n",
       "<table border=\"1\" class=\"dataframe\">\n",
       "  <thead>\n",
       "    <tr style=\"text-align: right;\">\n",
       "      <th></th>\n",
       "      <th>R:NPNJ(RI)</th>\n",
       "      <th>R:FSRJ(RI)</th>\n",
       "      <th>R:SBKJ(RI)</th>\n",
       "      <th>R:SOLJ(RI)</th>\n",
       "      <th>R:MTNJ(RI)</th>\n",
       "      <th>R:SLMJ(RI)</th>\n",
       "      <th>R:NEDJ(RI)</th>\n",
       "      <th>R:BGAJ(RI)</th>\n",
       "      <th>R:SHPJ(RI)</th>\n",
       "      <th>R:AMSJ(RI)</th>\n",
       "      <th>...</th>\n",
       "      <th>R:OMLJ(RI)</th>\n",
       "      <th>R:AONJ(RI)</th>\n",
       "      <th>R:CULPJ(RI)</th>\n",
       "      <th>R:EMNJ(RI)</th>\n",
       "      <th>R:RTNJ(RI)</th>\n",
       "      <th>R:CFRJ(RI)</th>\n",
       "      <th>source</th>\n",
       "      <th>company</th>\n",
       "      <th>text</th>\n",
       "      <th>value</th>\n",
       "    </tr>\n",
       "    <tr>\n",
       "      <th>Code</th>\n",
       "      <th></th>\n",
       "      <th></th>\n",
       "      <th></th>\n",
       "      <th></th>\n",
       "      <th></th>\n",
       "      <th></th>\n",
       "      <th></th>\n",
       "      <th></th>\n",
       "      <th></th>\n",
       "      <th></th>\n",
       "      <th></th>\n",
       "      <th></th>\n",
       "      <th></th>\n",
       "      <th></th>\n",
       "      <th></th>\n",
       "      <th></th>\n",
       "      <th></th>\n",
       "      <th></th>\n",
       "      <th></th>\n",
       "      <th></th>\n",
       "      <th></th>\n",
       "    </tr>\n",
       "  </thead>\n",
       "  <tbody>\n",
       "    <tr>\n",
       "      <th>2003-05-16</th>\n",
       "      <td>61.44</td>\n",
       "      <td>4971.77</td>\n",
       "      <td>1341.20</td>\n",
       "      <td>7399.11</td>\n",
       "      <td>413.55</td>\n",
       "      <td>120.46</td>\n",
       "      <td>2771.90</td>\n",
       "      <td>489.08</td>\n",
       "      <td>158.81</td>\n",
       "      <td>31072.29</td>\n",
       "      <td>...</td>\n",
       "      <td>98.22</td>\n",
       "      <td>70.45</td>\n",
       "      <td>99.4</td>\n",
       "      <td>188.57</td>\n",
       "      <td>273.17</td>\n",
       "      <td>741.69</td>\n",
       "      <td>NaN</td>\n",
       "      <td>NaN</td>\n",
       "      <td>NaN</td>\n",
       "      <td>[nan]</td>\n",
       "    </tr>\n",
       "    <tr>\n",
       "      <th>2003-05-19</th>\n",
       "      <td>61.55</td>\n",
       "      <td>4909.54</td>\n",
       "      <td>1352.47</td>\n",
       "      <td>7653.34</td>\n",
       "      <td>407.51</td>\n",
       "      <td>118.50</td>\n",
       "      <td>2613.72</td>\n",
       "      <td>492.93</td>\n",
       "      <td>153.29</td>\n",
       "      <td>31060.84</td>\n",
       "      <td>...</td>\n",
       "      <td>95.67</td>\n",
       "      <td>70.45</td>\n",
       "      <td>99.4</td>\n",
       "      <td>188.57</td>\n",
       "      <td>273.17</td>\n",
       "      <td>717.27</td>\n",
       "      <td>NaN</td>\n",
       "      <td>NaN</td>\n",
       "      <td>NaN</td>\n",
       "      <td>[nan, nan, nan, nan]</td>\n",
       "    </tr>\n",
       "    <tr>\n",
       "      <th>2003-05-20</th>\n",
       "      <td>60.48</td>\n",
       "      <td>4895.71</td>\n",
       "      <td>1343.45</td>\n",
       "      <td>7397.40</td>\n",
       "      <td>410.53</td>\n",
       "      <td>119.48</td>\n",
       "      <td>2606.19</td>\n",
       "      <td>492.93</td>\n",
       "      <td>153.29</td>\n",
       "      <td>30373.15</td>\n",
       "      <td>...</td>\n",
       "      <td>95.23</td>\n",
       "      <td>70.45</td>\n",
       "      <td>99.4</td>\n",
       "      <td>188.57</td>\n",
       "      <td>273.17</td>\n",
       "      <td>705.06</td>\n",
       "      <td>NaN</td>\n",
       "      <td>NaN</td>\n",
       "      <td>NaN</td>\n",
       "      <td>[nan, nan, nan, nan, nan]</td>\n",
       "    </tr>\n",
       "    <tr>\n",
       "      <th>2003-05-21</th>\n",
       "      <td>61.72</td>\n",
       "      <td>5034.00</td>\n",
       "      <td>1375.01</td>\n",
       "      <td>7312.38</td>\n",
       "      <td>412.34</td>\n",
       "      <td>121.44</td>\n",
       "      <td>2621.26</td>\n",
       "      <td>508.34</td>\n",
       "      <td>153.29</td>\n",
       "      <td>29777.13</td>\n",
       "      <td>...</td>\n",
       "      <td>92.94</td>\n",
       "      <td>70.45</td>\n",
       "      <td>99.4</td>\n",
       "      <td>188.57</td>\n",
       "      <td>273.17</td>\n",
       "      <td>731.92</td>\n",
       "      <td>NaN</td>\n",
       "      <td>NaN</td>\n",
       "      <td>NaN</td>\n",
       "      <td>[nan, nan, nan, nan, nan, nan]</td>\n",
       "    </tr>\n",
       "    <tr>\n",
       "      <th>2003-05-22</th>\n",
       "      <td>64.32</td>\n",
       "      <td>5020.17</td>\n",
       "      <td>1384.03</td>\n",
       "      <td>7405.91</td>\n",
       "      <td>416.56</td>\n",
       "      <td>121.44</td>\n",
       "      <td>2621.26</td>\n",
       "      <td>507.56</td>\n",
       "      <td>150.25</td>\n",
       "      <td>29513.53</td>\n",
       "      <td>...</td>\n",
       "      <td>92.59</td>\n",
       "      <td>70.45</td>\n",
       "      <td>99.4</td>\n",
       "      <td>188.57</td>\n",
       "      <td>273.17</td>\n",
       "      <td>744.74</td>\n",
       "      <td>NaN</td>\n",
       "      <td>NaN</td>\n",
       "      <td>NaN</td>\n",
       "      <td>[nan, nan, nan, nan, nan, nan, nan]</td>\n",
       "    </tr>\n",
       "  </tbody>\n",
       "</table>\n",
       "<p>5 rows × 178 columns</p>\n",
       "</div>"
      ],
      "text/plain": [
       "            R:NPNJ(RI)  R:FSRJ(RI)  R:SBKJ(RI)  R:SOLJ(RI)  R:MTNJ(RI)  \\\n",
       "Code                                                                     \n",
       "2003-05-16       61.44     4971.77     1341.20     7399.11      413.55   \n",
       "2003-05-19       61.55     4909.54     1352.47     7653.34      407.51   \n",
       "2003-05-20       60.48     4895.71     1343.45     7397.40      410.53   \n",
       "2003-05-21       61.72     5034.00     1375.01     7312.38      412.34   \n",
       "2003-05-22       64.32     5020.17     1384.03     7405.91      416.56   \n",
       "\n",
       "            R:SLMJ(RI)  R:NEDJ(RI)  R:BGAJ(RI)  R:SHPJ(RI)  R:AMSJ(RI)  \\\n",
       "Code                                                                     \n",
       "2003-05-16      120.46     2771.90      489.08      158.81    31072.29   \n",
       "2003-05-19      118.50     2613.72      492.93      153.29    31060.84   \n",
       "2003-05-20      119.48     2606.19      492.93      153.29    30373.15   \n",
       "2003-05-21      121.44     2621.26      508.34      153.29    29777.13   \n",
       "2003-05-22      121.44     2621.26      507.56      150.25    29513.53   \n",
       "\n",
       "                           ...                   R:OMLJ(RI)  R:AONJ(RI)  \\\n",
       "Code                       ...                                            \n",
       "2003-05-16                 ...                        98.22       70.45   \n",
       "2003-05-19                 ...                        95.67       70.45   \n",
       "2003-05-20                 ...                        95.23       70.45   \n",
       "2003-05-21                 ...                        92.94       70.45   \n",
       "2003-05-22                 ...                        92.59       70.45   \n",
       "\n",
       "            R:CULPJ(RI)  R:EMNJ(RI)  R:RTNJ(RI)  R:CFRJ(RI)  source  company  \\\n",
       "Code                                                                           \n",
       "2003-05-16         99.4      188.57      273.17      741.69     NaN      NaN   \n",
       "2003-05-19         99.4      188.57      273.17      717.27     NaN      NaN   \n",
       "2003-05-20         99.4      188.57      273.17      705.06     NaN      NaN   \n",
       "2003-05-21         99.4      188.57      273.17      731.92     NaN      NaN   \n",
       "2003-05-22         99.4      188.57      273.17      744.74     NaN      NaN   \n",
       "\n",
       "            text                                value  \n",
       "Code                                                   \n",
       "2003-05-16   NaN                                [nan]  \n",
       "2003-05-19   NaN                 [nan, nan, nan, nan]  \n",
       "2003-05-20   NaN            [nan, nan, nan, nan, nan]  \n",
       "2003-05-21   NaN       [nan, nan, nan, nan, nan, nan]  \n",
       "2003-05-22   NaN  [nan, nan, nan, nan, nan, nan, nan]  \n",
       "\n",
       "[5 rows x 178 columns]"
      ]
     },
     "execution_count": 13,
     "metadata": {},
     "output_type": "execute_result"
    }
   ],
   "source": [
    "U.head()"
   ]
  },
  {
   "cell_type": "markdown",
   "metadata": {},
   "source": [
    "# Portfoliios"
   ]
  },
  {
   "cell_type": "code",
   "execution_count": null,
   "metadata": {},
   "outputs": [],
   "source": [
    "def RandomPortolio(stocks=174, size=10, samples=5000, p=None):\n",
    "    E = np.zeros((stocks,samples), dtype='f8')\n",
    "    \n",
    "    for j in range(samples):\n",
    "        E[ np.random.choice(stocks, size, replace=False, p=None) , j] = 1\n",
    "    \n",
    "    return E"
   ]
  },
  {
   "cell_type": "code",
   "execution_count": null,
   "metadata": {},
   "outputs": [],
   "source": [
    "P = RandomPortolio()"
   ]
  },
  {
   "cell_type": "markdown",
   "metadata": {},
   "source": [
    "# Volatility"
   ]
  },
  {
   "cell_type": "code",
   "execution_count": null,
   "metadata": {},
   "outputs": [],
   "source": []
  },
  {
   "cell_type": "markdown",
   "metadata": {},
   "source": [
    "# Beta"
   ]
  },
  {
   "cell_type": "code",
   "execution_count": null,
   "metadata": {},
   "outputs": [],
   "source": []
  },
  {
   "cell_type": "markdown",
   "metadata": {},
   "source": [
    "# Association"
   ]
  },
  {
   "cell_type": "code",
   "execution_count": null,
   "metadata": {},
   "outputs": [],
   "source": [
    "def Association(doc, vocab, P, idf):\n",
    "    model = Word2Vec(sentences=[doc.split()], min_count=1, workers=1, iter=100)\n",
    "    vectors = pd.DataFrame(data=model.wv.vectors, index=model.wv.vocab.keys(), dtype='f8')\n",
    "    words = vocab.merge(vectors, how='left', left_on='vocab', right_index=True).drop('vocab', axis=1)\n",
    "    \n",
    "    companies = pd.DataFrame(idf).apply(lambda x: pd.Series(np.multiply(x.values.reshape(-1,1),words).sum(0)), axis=1)\n",
    "    distances = pairwise_distances(companies, metric='cosine', n_jobs=1)\n",
    "    portfolios = pd.DataFrame(P).apply(lambda x: (x.values.reshape(-1,1) * x.values.reshape(-1,1).T * distances).sum(), axis=0)\n",
    "    \n",
    "    return pd.Series(portfolios)"
   ]
  },
  {
   "cell_type": "code",
   "execution_count": null,
   "metadata": {},
   "outputs": [],
   "source": [
    "docs = pd.Series(description['DESCRIPTION'].sum())\n",
    "\n",
    "Word2Vec_TFIDF = TfidfVectorizer()\n",
    "word2vec_tfidf = Word2Vec_TFIDF.fit_transform(description['DESCRIPTION']).todense()\n",
    "\n",
    "vocab = pd.DataFrame(Word2Vec_TFIDF.get_feature_names(), columns=['vocab'])"
   ]
  },
  {
   "cell_type": "code",
   "execution_count": null,
   "metadata": {},
   "outputs": [],
   "source": [
    "ass = docs.apply(lambda doc: Association(doc, vocab, P, word2vec_tfidf))"
   ]
  }
 ],
 "metadata": {
  "kernelspec": {
   "display_name": "Python 3",
   "language": "python",
   "name": "python3"
  },
  "language_info": {
   "codemirror_mode": {
    "name": "ipython",
    "version": 3
   },
   "file_extension": ".py",
   "mimetype": "text/x-python",
   "name": "python",
   "nbconvert_exporter": "python",
   "pygments_lexer": "ipython3",
   "version": "3.6.6"
  }
 },
 "nbformat": 4,
 "nbformat_minor": 2
}
