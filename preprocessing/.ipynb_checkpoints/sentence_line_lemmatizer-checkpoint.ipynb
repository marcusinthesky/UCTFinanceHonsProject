{
 "cells": [
  {
   "cell_type": "code",
   "execution_count": null,
   "metadata": {},
   "outputs": [],
   "source": [
    "def is_punct_helper(token):\n",
    "    #punc = string.digits+string.punctuation.replace(\"\",\".\")#+\"’‘\"+'“–”'\n",
    "    \"\"\"helper function to eliminate tokens that are pure punctuation or whitespace\"\"\"\n",
    "    return token.is_punct or token.is_space or token.like_num or token.is_stop\n",
    "\n",
    "\n",
    "def lemmatized_sentence_corpus(generator, output_path):    \n",
    "    \"\"\"Signature: lemmatized_sentence_corpus(generator, output)\n",
    "    Docstring:\n",
    "    Open stream and return a file with lemmatizes sentences from corpus on eachline seperated by sentences. \n",
    "    \n",
    "    generator: takes pandas dataframe iterable with text in column called 'text'\n",
    "    output: filepath where output\n",
    "    \"\"\"\n",
    "    with open(output_path, 'a', encoding='utf_8') as f:\n",
    "        \n",
    "        for parsed_review in nlp.pipe(map(lambda x: str(x['text'].values)[250:-559],generator)\n",
    "                                      ,batch_size=1, n_threads=-1, cleanup=True):\n",
    "\n",
    "            for sent in parsed_review.sents:\n",
    "                f.write(u' '.join([token.lemma_ for token in sent\n",
    "                                 if not is_punct_helper(token)])+'\\n')"
   ]
  }
 ],
 "metadata": {
  "kernelspec": {
   "display_name": "Python 3",
   "language": "python",
   "name": "python3"
  },
  "language_info": {
   "codemirror_mode": {
    "name": "ipython",
    "version": 3
   },
   "file_extension": ".py",
   "mimetype": "text/x-python",
   "name": "python",
   "nbconvert_exporter": "python",
   "pygments_lexer": "ipython3",
   "version": "3.6.3"
  }
 },
 "nbformat": 4,
 "nbformat_minor": 2
}
