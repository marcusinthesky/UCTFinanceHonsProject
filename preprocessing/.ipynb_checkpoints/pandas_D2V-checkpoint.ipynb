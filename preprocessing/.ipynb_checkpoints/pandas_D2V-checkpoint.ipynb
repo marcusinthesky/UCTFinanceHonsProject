{
 "cells": [
  {
   "cell_type": "code",
   "execution_count": 1,
   "metadata": {},
   "outputs": [],
   "source": [
    "import os\n",
    "from multiprocessing import cpu_count\n",
    "import string, re, time\n",
    "import spacy\n",
    "from nltk.stem import snowball\n",
    "import pandas as pd\n",
    "from sklearn.feature_extraction.text import CountVectorizer\n",
    "from sklearn.ensemble import RandomForestClassifier\n",
    "from sklearn.neural_network import MLPClassifier\n",
    "from sklearn.feature_extraction.text import TfidfTransformer\n",
    "from sklearn.model_selection import train_test_split\n",
    "from gensim.sklearn_api.d2vmodel import D2VTransformer\n",
    "import numpy as np"
   ]
  },
  {
   "cell_type": "code",
   "execution_count": 2,
   "metadata": {},
   "outputs": [],
   "source": [
    "data_directory = os.path.join('..','data')"
   ]
  },
  {
   "cell_type": "code",
   "execution_count": null,
   "metadata": {},
   "outputs": [],
   "source": []
  },
  {
   "cell_type": "code",
   "execution_count": 3,
   "metadata": {},
   "outputs": [],
   "source": [
    "stemmer = snowball.EnglishStemmer()"
   ]
  },
  {
   "cell_type": "code",
   "execution_count": 4,
   "metadata": {},
   "outputs": [],
   "source": [
    "regex = re.compile('[%s]' % re.escape(string.punctuation+string.digits+'“”\\''))"
   ]
  },
  {
   "cell_type": "code",
   "execution_count": null,
   "metadata": {},
   "outputs": [],
   "source": []
  },
  {
   "cell_type": "code",
   "execution_count": 5,
   "metadata": {},
   "outputs": [],
   "source": [
    "V = pd.read_csv('sens-d2v.csv')"
   ]
  },
  {
   "cell_type": "code",
   "execution_count": 6,
   "metadata": {},
   "outputs": [],
   "source": [
    "d = pd.read_csv(os.path.join(data_directory,'sens-copy.csv'))"
   ]
  },
  {
   "cell_type": "code",
   "execution_count": null,
   "metadata": {},
   "outputs": [],
   "source": []
  },
  {
   "cell_type": "code",
   "execution_count": 7,
   "metadata": {},
   "outputs": [],
   "source": [
    "df = pd.concat([d, V.iloc[:,1:]], axis=1)"
   ]
  },
  {
   "cell_type": "code",
   "execution_count": 8,
   "metadata": {},
   "outputs": [],
   "source": [
    "df.date = pd.to_datetime(df.date)"
   ]
  },
  {
   "cell_type": "code",
   "execution_count": 9,
   "metadata": {},
   "outputs": [],
   "source": [
    "df.date = df.date.astype('datetime64[D]')"
   ]
  },
  {
   "cell_type": "code",
   "execution_count": 10,
   "metadata": {},
   "outputs": [],
   "source": [
    "df = df.loc[df.text.notnull(),:]"
   ]
  },
  {
   "cell_type": "code",
   "execution_count": null,
   "metadata": {},
   "outputs": [],
   "source": []
  },
  {
   "cell_type": "code",
   "execution_count": 39,
   "metadata": {},
   "outputs": [],
   "source": [
    "pr = pd.read_csv(os.path.join(data_directory,'JSE_RI_2003_2008.csv'),sep=';', encoding='utf-8', quotechar='\"', decimal=',')"
   ]
  },
  {
   "cell_type": "code",
   "execution_count": 40,
   "metadata": {},
   "outputs": [],
   "source": [
    "pr = pr.filter(regex='^(?:(?!Unnamed).)*$',axis=1)"
   ]
  },
  {
   "cell_type": "code",
   "execution_count": 41,
   "metadata": {},
   "outputs": [],
   "source": [
    "pr = pr.drop(index=0,axis=0)"
   ]
  },
  {
   "cell_type": "code",
   "execution_count": 42,
   "metadata": {},
   "outputs": [],
   "source": [
    "pr.columns = pd.read_csv('companies.csv', names=['names']).names.str.lower()"
   ]
  },
  {
   "cell_type": "code",
   "execution_count": null,
   "metadata": {},
   "outputs": [],
   "source": []
  },
  {
   "cell_type": "code",
   "execution_count": 43,
   "metadata": {},
   "outputs": [],
   "source": [
    "pr.iloc[:,1:] = pr.iloc[:,1:].apply(lambda x: x.str.replace(\",\",\".\").astype(float), axis=0)"
   ]
  },
  {
   "cell_type": "code",
   "execution_count": 44,
   "metadata": {},
   "outputs": [],
   "source": [
    "# Check whether these are opening or closing values\n",
    "pr.iloc[:,1:] = (pr.iloc[:,1:].shift(0) - pr.iloc[:,1:175].shift(-1))/pr.iloc[:,1:175].shift(-1)"
   ]
  },
  {
   "cell_type": "code",
   "execution_count": 45,
   "metadata": {},
   "outputs": [],
   "source": [
    "ents = pr.columns[1:] #.str.extract('^(.+?)-')[0].str.replace(regex, ' ').str.replace('JSE', ' ').str.replace('GROUP', ' ').str.replace(' +', ' ').str.lower()"
   ]
  },
  {
   "cell_type": "code",
   "execution_count": 46,
   "metadata": {},
   "outputs": [],
   "source": [
    "#col = ['date']\n",
    "#col.extend(ents.tolist()[1:])\n",
    "#pr.columns = col"
   ]
  },
  {
   "cell_type": "code",
   "execution_count": 47,
   "metadata": {},
   "outputs": [
    {
     "name": "stderr",
     "output_type": "stream",
     "text": [
      "/home/marcussky/anaconda3/envs/pearl/lib/python3.6/site-packages/ipykernel_launcher.py:1: UserWarning: Pandas doesn't allow columns to be created via a new attribute name - see https://pandas.pydata.org/pandas-docs/stable/indexing.html#attribute-access\n",
      "  \"\"\"Entry point for launching an IPython kernel.\n"
     ]
    }
   ],
   "source": [
    "pr.Date = pd.to_datetime(pr.date)"
   ]
  },
  {
   "cell_type": "code",
   "execution_count": null,
   "metadata": {},
   "outputs": [],
   "source": []
  },
  {
   "cell_type": "code",
   "execution_count": 48,
   "metadata": {},
   "outputs": [],
   "source": [
    "ent_counter = CountVectorizer(encoding='utf-8', decode_error='strict', \n",
    "                             strip_accents='unicode', lowercase=True, \n",
    "                             tokenizer=None, stop_words='english', \n",
    "                             token_pattern='(?u)\\\\b\\\\w\\\\w+\\\\b',\n",
    "                             ngram_range=(1, 1), analyzer='word', \n",
    "                             max_features=None, \n",
    "                             vocabulary=ents)"
   ]
  },
  {
   "cell_type": "code",
   "execution_count": 50,
   "metadata": {},
   "outputs": [],
   "source": [
    "ent_counts = ent_counter.transform(df.text)"
   ]
  },
  {
   "cell_type": "code",
   "execution_count": 51,
   "metadata": {},
   "outputs": [],
   "source": [
    "ent_counts = ent_counts.todense()"
   ]
  },
  {
   "cell_type": "code",
   "execution_count": 52,
   "metadata": {},
   "outputs": [],
   "source": [
    "df['Company'] = pd.DataFrame(np.argmax(ent_counts, axis=1, out=None), columns=['company']).apply(lambda x: ents[x]).reset_index(drop=True)"
   ]
  },
  {
   "cell_type": "code",
   "execution_count": 53,
   "metadata": {},
   "outputs": [],
   "source": [
    "df2 = pr.melt(id_vars='date', var_name='Company').loc[ :]"
   ]
  },
  {
   "cell_type": "code",
   "execution_count": 54,
   "metadata": {},
   "outputs": [],
   "source": [
    "df2.date = df2.date.astype(str).str.replace('/','-')"
   ]
  },
  {
   "cell_type": "code",
   "execution_count": 55,
   "metadata": {},
   "outputs": [],
   "source": [
    "df.date = df.date.astype(str)"
   ]
  },
  {
   "cell_type": "code",
   "execution_count": 56,
   "metadata": {},
   "outputs": [],
   "source": [
    "df.Company = df.Company.str.rstrip()\n",
    "df2.Company = df2.Company.str.rstrip()"
   ]
  },
  {
   "cell_type": "code",
   "execution_count": 57,
   "metadata": {},
   "outputs": [],
   "source": [
    "data = pd.merge(df, df2, how='left', on=['date', 'Company'])"
   ]
  },
  {
   "cell_type": "code",
   "execution_count": 58,
   "metadata": {},
   "outputs": [],
   "source": [
    "data.value = pd.to_numeric(data.value)"
   ]
  },
  {
   "cell_type": "code",
   "execution_count": 59,
   "metadata": {},
   "outputs": [],
   "source": [
    "data = data.loc[data.value.notnull(), :]"
   ]
  },
  {
   "cell_type": "code",
   "execution_count": null,
   "metadata": {},
   "outputs": [],
   "source": []
  },
  {
   "cell_type": "code",
   "execution_count": null,
   "metadata": {},
   "outputs": [],
   "source": [
    "vectorizer = D2VTransformer(dm_mean=None, dm=1, dbow_words=0, dm_concat=0, \n",
    "                            dm_tag_count=1, docvecs=None, docvecs_mapfile=None, \n",
    "                            comment=None, trim_rule=None, size=75, alpha=0.025, \n",
    "                            window=5, min_count=5, max_vocab_size=None, \n",
    "                            sample=0.001, seed=1, workers=4, min_alpha=0.0001, \n",
    "                            hs=0, negative=5, cbow_mean=1, iter=5, \n",
    "                            sorted_vocab=1, batch_words=5000)"
   ]
  },
  {
   "cell_type": "code",
   "execution_count": null,
   "metadata": {},
   "outputs": [],
   "source": [
    "X = vectorizer.fit_transform(data.text.astype(str).str.split())"
   ]
  },
  {
   "cell_type": "code",
   "execution_count": null,
   "metadata": {},
   "outputs": [],
   "source": []
  },
  {
   "cell_type": "code",
   "execution_count": 60,
   "metadata": {},
   "outputs": [],
   "source": [
    "rf = MLPClassifier(hidden_layer_sizes=(75,40,20,), activation='tanh',solver='adam',verbose=True, batch_size=200)"
   ]
  },
  {
   "cell_type": "code",
   "execution_count": null,
   "metadata": {},
   "outputs": [],
   "source": []
  },
  {
   "cell_type": "code",
   "execution_count": 61,
   "metadata": {},
   "outputs": [],
   "source": [
    "X = data.loc[:,['0', '1', '2', '3', '4', '5',\n",
    "       '6', '7', '8', '9', '10', '11', '12', '13', '14', '15', '16', '17',\n",
    "       '18', '19', '20', '21', '22', '23', '24', '25', '26', '27', '28', '29',\n",
    "       '30', '31', '32', '33', '34', '35', '36', '37', '38', '39', '40', '41',\n",
    "       '42', '43', '44', '45', '46', '47', '48', '49', '50', '51', '52', '53',\n",
    "       '54', '55', '56', '57', '58', '59', '60', '61', '62', '63', '64', '65',\n",
    "       '66', '67', '68', '69', '70', '71', '72', '73', '74']]"
   ]
  },
  {
   "cell_type": "code",
   "execution_count": 62,
   "metadata": {},
   "outputs": [
    {
     "name": "stderr",
     "output_type": "stream",
     "text": [
      "/home/marcussky/anaconda3/envs/pearl/lib/python3.6/site-packages/sklearn/model_selection/_split.py:2026: FutureWarning: From version 0.21, test_size will always complement train_size unless both are specified.\n",
      "  FutureWarning)\n"
     ]
    }
   ],
   "source": [
    "X_train, X_test, y_train, y_test = train_test_split(X, data.value>=0, train_size = 0.8)"
   ]
  },
  {
   "cell_type": "code",
   "execution_count": null,
   "metadata": {},
   "outputs": [],
   "source": []
  },
  {
   "cell_type": "code",
   "execution_count": 63,
   "metadata": {},
   "outputs": [
    {
     "name": "stdout",
     "output_type": "stream",
     "text": [
      "Iteration 1, loss = 0.69562213\n",
      "Iteration 2, loss = 0.69233327\n",
      "Iteration 3, loss = 0.69130222\n",
      "Iteration 4, loss = 0.68989170\n",
      "Iteration 5, loss = 0.68891621\n",
      "Iteration 6, loss = 0.68787196\n",
      "Iteration 7, loss = 0.68633359\n",
      "Iteration 8, loss = 0.68508907\n",
      "Iteration 9, loss = 0.68349631\n",
      "Iteration 10, loss = 0.68167282\n",
      "Iteration 11, loss = 0.68003146\n",
      "Iteration 12, loss = 0.67856576\n",
      "Iteration 13, loss = 0.67633474\n",
      "Iteration 14, loss = 0.67499580\n",
      "Iteration 15, loss = 0.67296493\n",
      "Iteration 16, loss = 0.67123941\n",
      "Iteration 17, loss = 0.66906237\n",
      "Iteration 18, loss = 0.66694883\n",
      "Iteration 19, loss = 0.66457105\n",
      "Iteration 20, loss = 0.66277538\n",
      "Iteration 21, loss = 0.66109817\n",
      "Iteration 22, loss = 0.65895501\n",
      "Iteration 23, loss = 0.65670448\n",
      "Iteration 24, loss = 0.65465924\n",
      "Iteration 25, loss = 0.65298957\n",
      "Iteration 26, loss = 0.65095110\n",
      "Iteration 27, loss = 0.64881920\n",
      "Iteration 28, loss = 0.64697149\n",
      "Iteration 29, loss = 0.64503524\n",
      "Iteration 30, loss = 0.64373055\n",
      "Iteration 31, loss = 0.64114497\n",
      "Iteration 32, loss = 0.63995536\n",
      "Iteration 33, loss = 0.63851313\n",
      "Iteration 34, loss = 0.63617328\n",
      "Iteration 35, loss = 0.63413528\n",
      "Iteration 36, loss = 0.63287685\n",
      "Iteration 37, loss = 0.63060039\n",
      "Iteration 38, loss = 0.62900322\n",
      "Iteration 39, loss = 0.62788877\n",
      "Iteration 40, loss = 0.62572154\n",
      "Iteration 41, loss = 0.62485177\n",
      "Iteration 42, loss = 0.62256154\n",
      "Iteration 43, loss = 0.62134329\n",
      "Iteration 44, loss = 0.61955643\n",
      "Iteration 45, loss = 0.61778728\n",
      "Iteration 46, loss = 0.61596616\n",
      "Iteration 47, loss = 0.61520736\n",
      "Iteration 48, loss = 0.61355436\n",
      "Iteration 49, loss = 0.61162194\n",
      "Iteration 50, loss = 0.61058390\n",
      "Iteration 51, loss = 0.60882170\n",
      "Iteration 52, loss = 0.60704474\n",
      "Iteration 53, loss = 0.60607735\n",
      "Iteration 54, loss = 0.60415717\n",
      "Iteration 55, loss = 0.60363230\n",
      "Iteration 56, loss = 0.60242037\n",
      "Iteration 57, loss = 0.60082915\n",
      "Iteration 58, loss = 0.60006460\n",
      "Iteration 59, loss = 0.59823054\n",
      "Iteration 60, loss = 0.59677248\n",
      "Iteration 61, loss = 0.59575316\n",
      "Iteration 62, loss = 0.59447374\n",
      "Iteration 63, loss = 0.59330960\n",
      "Iteration 64, loss = 0.59238377\n",
      "Iteration 65, loss = 0.59142247\n",
      "Iteration 66, loss = 0.58974760\n",
      "Iteration 67, loss = 0.58825274\n",
      "Iteration 68, loss = 0.58639198\n",
      "Iteration 69, loss = 0.58594330\n",
      "Iteration 70, loss = 0.58504983\n",
      "Iteration 71, loss = 0.58384716\n",
      "Iteration 72, loss = 0.58246787\n",
      "Iteration 73, loss = 0.58178095\n",
      "Iteration 74, loss = 0.58102963\n",
      "Iteration 75, loss = 0.57949964\n",
      "Iteration 76, loss = 0.57893835\n",
      "Iteration 77, loss = 0.57795413\n",
      "Iteration 78, loss = 0.57706338\n",
      "Iteration 79, loss = 0.57573604\n",
      "Iteration 80, loss = 0.57502628\n",
      "Iteration 81, loss = 0.57424494\n",
      "Iteration 82, loss = 0.57334948\n",
      "Iteration 83, loss = 0.57214803\n",
      "Iteration 84, loss = 0.57093277\n",
      "Iteration 85, loss = 0.57006600\n",
      "Iteration 86, loss = 0.56934463\n",
      "Iteration 87, loss = 0.56782999\n",
      "Iteration 88, loss = 0.56759819\n",
      "Iteration 89, loss = 0.56644782\n",
      "Iteration 90, loss = 0.56580853\n",
      "Iteration 91, loss = 0.56505737\n",
      "Iteration 92, loss = 0.56384200\n",
      "Iteration 93, loss = 0.56409920\n",
      "Iteration 94, loss = 0.56205108\n",
      "Iteration 95, loss = 0.56176592\n",
      "Iteration 96, loss = 0.56167851\n",
      "Iteration 97, loss = 0.56019774\n",
      "Iteration 98, loss = 0.55940169\n",
      "Iteration 99, loss = 0.55873478\n",
      "Iteration 100, loss = 0.55829801\n",
      "Iteration 101, loss = 0.55772275\n",
      "Iteration 102, loss = 0.55682129\n",
      "Iteration 103, loss = 0.55643515\n",
      "Iteration 104, loss = 0.55547629\n",
      "Iteration 105, loss = 0.55528498\n",
      "Iteration 106, loss = 0.55483252\n",
      "Iteration 107, loss = 0.55331076\n",
      "Iteration 108, loss = 0.55284099\n",
      "Iteration 109, loss = 0.55198992\n",
      "Iteration 110, loss = 0.55138538\n",
      "Iteration 111, loss = 0.55153439\n",
      "Iteration 112, loss = 0.55013143\n",
      "Iteration 113, loss = 0.54963865\n",
      "Iteration 114, loss = 0.54875952\n",
      "Iteration 115, loss = 0.54758208\n",
      "Iteration 116, loss = 0.54765333\n",
      "Iteration 117, loss = 0.54722245\n",
      "Iteration 118, loss = 0.54617346\n",
      "Iteration 119, loss = 0.54584497\n",
      "Iteration 120, loss = 0.54513716\n",
      "Iteration 121, loss = 0.54453366\n",
      "Iteration 122, loss = 0.54485707\n",
      "Iteration 123, loss = 0.54419671\n",
      "Iteration 124, loss = 0.54293830\n",
      "Iteration 125, loss = 0.54222578\n",
      "Iteration 126, loss = 0.54191595\n",
      "Iteration 127, loss = 0.54145152\n",
      "Iteration 128, loss = 0.54057062\n",
      "Iteration 129, loss = 0.54001076\n",
      "Iteration 130, loss = 0.53930992\n",
      "Iteration 131, loss = 0.53986834\n",
      "Iteration 132, loss = 0.53916842\n",
      "Iteration 133, loss = 0.53804797\n",
      "Iteration 134, loss = 0.53812081\n",
      "Iteration 135, loss = 0.53651402\n",
      "Iteration 136, loss = 0.53737602\n",
      "Iteration 137, loss = 0.53689521\n",
      "Iteration 138, loss = 0.53528105\n",
      "Iteration 139, loss = 0.53463509\n",
      "Iteration 140, loss = 0.53402232\n",
      "Iteration 141, loss = 0.53412242\n",
      "Iteration 142, loss = 0.53299761\n",
      "Iteration 143, loss = 0.53352320\n",
      "Iteration 144, loss = 0.53328177\n",
      "Iteration 145, loss = 0.53256476\n",
      "Iteration 146, loss = 0.53157632\n",
      "Iteration 147, loss = 0.53086135\n",
      "Iteration 148, loss = 0.53051503\n",
      "Iteration 149, loss = 0.53098676\n",
      "Iteration 150, loss = 0.53105823\n",
      "Iteration 151, loss = 0.52979827\n",
      "Iteration 152, loss = 0.52887657\n",
      "Iteration 153, loss = 0.52892886\n",
      "Iteration 154, loss = 0.52959464\n",
      "Iteration 155, loss = 0.52803470\n",
      "Iteration 156, loss = 0.52786338\n",
      "Iteration 157, loss = 0.52637007\n",
      "Iteration 158, loss = 0.52592285\n",
      "Iteration 159, loss = 0.52669136\n",
      "Iteration 160, loss = 0.52526212\n",
      "Iteration 161, loss = 0.52503541\n",
      "Iteration 162, loss = 0.52485771\n",
      "Iteration 163, loss = 0.52569742\n",
      "Iteration 164, loss = 0.52444139\n",
      "Iteration 165, loss = 0.52408744\n",
      "Iteration 166, loss = 0.52329994\n",
      "Iteration 167, loss = 0.52351594\n",
      "Iteration 168, loss = 0.52290570\n",
      "Iteration 169, loss = 0.52229057\n",
      "Iteration 170, loss = 0.52171107\n",
      "Iteration 171, loss = 0.52141721\n",
      "Iteration 172, loss = 0.52069779\n",
      "Iteration 173, loss = 0.52081773\n",
      "Iteration 174, loss = 0.52077631\n",
      "Iteration 175, loss = 0.52058239\n",
      "Iteration 176, loss = 0.51956495\n",
      "Iteration 177, loss = 0.51947039\n",
      "Iteration 178, loss = 0.51934849\n",
      "Iteration 179, loss = 0.51943743\n",
      "Iteration 180, loss = 0.51780462\n",
      "Iteration 181, loss = 0.51848312\n",
      "Iteration 182, loss = 0.51752723\n",
      "Iteration 183, loss = 0.51732662\n",
      "Iteration 184, loss = 0.51630609\n",
      "Iteration 185, loss = 0.51584782\n",
      "Iteration 186, loss = 0.51704884\n",
      "Iteration 187, loss = 0.51728851\n",
      "Iteration 188, loss = 0.51572198\n",
      "Iteration 189, loss = 0.51460676\n",
      "Iteration 190, loss = 0.51431761\n",
      "Iteration 191, loss = 0.51440606\n",
      "Iteration 192, loss = 0.51432382\n",
      "Iteration 193, loss = 0.51442045\n",
      "Training loss did not improve more than tol=0.000100 for two consecutive epochs. Stopping.\n"
     ]
    },
    {
     "data": {
      "text/plain": [
       "MLPClassifier(activation='tanh', alpha=0.0001, batch_size=200, beta_1=0.9,\n",
       "       beta_2=0.999, early_stopping=False, epsilon=1e-08,\n",
       "       hidden_layer_sizes=(75, 40, 20), learning_rate='constant',\n",
       "       learning_rate_init=0.001, max_iter=200, momentum=0.9,\n",
       "       nesterovs_momentum=True, power_t=0.5, random_state=None,\n",
       "       shuffle=True, solver='adam', tol=0.0001, validation_fraction=0.1,\n",
       "       verbose=True, warm_start=False)"
      ]
     },
     "execution_count": 63,
     "metadata": {},
     "output_type": "execute_result"
    }
   ],
   "source": [
    "rf.fit(X_train, y_train)"
   ]
  },
  {
   "cell_type": "code",
   "execution_count": 67,
   "metadata": {},
   "outputs": [
    {
     "data": {
      "text/plain": [
       "0.50628872936989999"
      ]
     },
     "execution_count": 67,
     "metadata": {},
     "output_type": "execute_result"
    }
   ],
   "source": [
    "rf.score(X_test, y_test)"
   ]
  },
  {
   "cell_type": "code",
   "execution_count": 68,
   "metadata": {},
   "outputs": [
    {
     "data": {
      "text/plain": [
       "0.47999165552024148"
      ]
     },
     "execution_count": 68,
     "metadata": {},
     "output_type": "execute_result"
    }
   ],
   "source": [
    "(data.value>=0).sum()/data.value.count()"
   ]
  },
  {
   "cell_type": "code",
   "execution_count": 69,
   "metadata": {},
   "outputs": [
    {
     "data": {
      "text/plain": [
       "0.70267824272916923"
      ]
     },
     "execution_count": 69,
     "metadata": {},
     "output_type": "execute_result"
    }
   ],
   "source": [
    "rf.score(X_train, y_train)"
   ]
  },
  {
   "cell_type": "code",
   "execution_count": null,
   "metadata": {},
   "outputs": [],
   "source": []
  }
 ],
 "metadata": {
  "kernelspec": {
   "display_name": "Python 3",
   "language": "python",
   "name": "python3"
  },
  "language_info": {
   "codemirror_mode": {
    "name": "ipython",
    "version": 3
   },
   "file_extension": ".py",
   "mimetype": "text/x-python",
   "name": "python",
   "nbconvert_exporter": "python",
   "pygments_lexer": "ipython3",
   "version": "3.6.5"
  }
 },
 "nbformat": 4,
 "nbformat_minor": 2
}
