{
 "cells": [
  {
   "cell_type": "raw",
   "metadata": {},
   "source": [
    "---\n",
    "# See https://pandoc.org/MANUAL.html#variables-for-latex\n",
    "\n",
    "title: An exploration into the use of Natural Language in Stock Market Prodiction\n",
    "\n",
    "author:\n",
    "- Marcus Gawronsky\n",
    "- Christpher Kleweg\n",
    "- Robert Brink\n",
    "\n",
    "date: 19 September 2018\n",
    "\n",
    "abstract : Investors consider a mosaic of information when making investment decisions, this information often comes in the form of news articles, reports and technical papers.  This paper explores the use of various techniques in the realm of natural language processing to analyze the value is provides in traditional and state-of-the-art predictive models.  \n",
    "\n",
    "toc: true\n",
    "toc_depth: 2\n",
    "lof: true\n",
    "lot: true\n",
    "number_sections: true\n",
    "secnumdepth: 1\n",
    "pagenumbering: true\n",
    "\n",
    "code_folding: hide\n",
    "\n",
    "papersize: a4\n",
    "#fontfamily: Latin Modern\n",
    "links-as-notes: true\n",
    "\n",
    "biblio-title: Bibliography   \n",
    "bibliography: ./library.bib\n",
    "csl: ./harvard-university-of-cape-town.csl\n",
    "\n",
    "thanks: We would like to thank Associate Professor Kanshukan Rajaratnam for his gratious support.  \n",
    "\n",
    "\n",
    "exclude_output: true\n",
    "exclude_input: true\n",
    "exclude_input_prompt: true\n",
    "exclude_output_prompt: true\n",
    "exclude_markdown: False\n",
    "exclude_code_cell: true\n",
    "\n",
    "\n",
    "---"
   ]
  },
  {
   "cell_type": "markdown",
   "metadata": {},
   "source": [
    "# Introduction\n",
    "[@Brett2002]"
   ]
  },
  {
   "cell_type": "markdown",
   "metadata": {},
   "source": [
    "# Literature Review"
   ]
  },
  {
   "cell_type": "markdown",
   "metadata": {},
   "source": []
  },
  {
   "cell_type": "code",
   "execution_count": null,
   "metadata": {},
   "outputs": [],
   "source": []
  },
  {
   "cell_type": "markdown",
   "metadata": {},
   "source": [
    "# Referrences"
   ]
  }
 ],
 "metadata": {
  "kernelspec": {
   "display_name": "Python 3",
   "language": "python",
   "name": "python3"
  },
  "language_info": {
   "codemirror_mode": {
    "name": "ipython",
    "version": 3
   },
   "file_extension": ".py",
   "mimetype": "text/x-python",
   "name": "python",
   "nbconvert_exporter": "python",
   "pygments_lexer": "ipython3",
   "version": "3.6.3"
  }
 },
 "nbformat": 4,
 "nbformat_minor": 2
}
