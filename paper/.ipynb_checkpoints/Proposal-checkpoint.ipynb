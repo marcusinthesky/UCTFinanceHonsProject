{
 "cells": [
  {
   "cell_type": "raw",
   "metadata": {},
   "source": [
    "---\n",
    "# See https://pandoc.org/MANUAL.html#variables-for-latex\n",
    "\n",
    "title: An exploration into the use of Natural Language Processing in Stock Market Prediction on the JSE\n",
    "\n",
    "author:\n",
    "- Marcus Gawronsky\n",
    "- Christpher Kleyweg\n",
    "- Robert Brink\n",
    "\n",
    "date: 28 March 2018\n",
    "\n",
    "\n",
    "number_sections: true\n",
    "secnumdepth: 1\n",
    "pagenumbering: true\n",
    "\n",
    "\n",
    "papersize: a4\n",
    "#fontfamily: Latin Modern\n",
    "\n",
    "\n",
    "biblio-title: Bibliography   \n",
    "bibliography: ../../library.bib\n",
    "csl: ./harvard-university-of-cape-town.csl\n",
    "\n",
    "exclude_output: true\n",
    "exclude_input: true\n",
    "exclude_input_prompt: true\n",
    "exclude_output_prompt: true\n",
    "exclude_markdown: False\n",
    "exclude_code_cell: true\n",
    "\n",
    "\n",
    "---"
   ]
  },
  {
   "cell_type": "markdown",
   "metadata": {},
   "source": [
    "# Introduction\n",
    "According to the Efficiency Market Hypothesis, [@Fama1972]\n",
    "\n",
    "Random Walk Theory [@Magdon-Ismail1998]\n",
    "\n"
   ]
  },
  {
   "cell_type": "markdown",
   "metadata": {},
   "source": [
    "# Brief Literature Review\n",
    "_Not just a summmary, criticize and look for questions this research raises_\n",
    "\n",
    "[@Gidofalvi2001b]"
   ]
  },
  {
   "cell_type": "markdown",
   "metadata": {},
   "source": [
    "# Problem statement and analysis"
   ]
  },
  {
   "cell_type": "markdown",
   "metadata": {},
   "source": [
    "## Key Research Questions\n",
    "Using the state-of-the-art techniques in Natural Language Processing, this paper aims to investigate the use of popular news sources in share price prediction on the Johannesburg Stock Exchange.  \n",
    "\n",
    "Using state-of-the-art techniques in Natural Language Processing, do publically availible news articles serve as price signals on the Johannesburg Stock Exchange?"
   ]
  },
  {
   "cell_type": "markdown",
   "metadata": {},
   "source": [
    "## Importance of Research\n",
    "_Use this chapter to present a clear outline of the problem or issue that you will address, including:_  \n",
    "_-Who has responsibility for the problem?_  \n",
    "_-What has already been done to try to solve it?_  \n",
    "_-What will happen if the problem is not solved?_  \n",
    "To-date, little research has been used conducted on JSE\n",
    "We aim to extedn the literature int eh use of newly developed continous word vector repsentations ot analyze market sentiment"
   ]
  },
  {
   "cell_type": "markdown",
   "metadata": {},
   "source": [
    "# Objective and final outcomes\n",
    "This research aims to estimate a predictive models that can be used in the real-world to achieve above average market returns.  "
   ]
  },
  {
   "cell_type": "markdown",
   "metadata": {},
   "source": [
    "# Approach"
   ]
  },
  {
   "cell_type": "markdown",
   "metadata": {},
   "source": [
    "## Datasources\n",
    "Data for this project will comprise of articles scraped from popular news services.  This data is publically availible and contains information on the source, time of publishing, a title and the article itself.  "
   ]
  },
  {
   "cell_type": "markdown",
   "metadata": {},
   "source": [
    "## Methodology\n",
    "The projects aims to compare the use of various vector representations and embeddings for Natural Langauge Processing, these include the use of Bag-of-Words, N-gram and continuous vector representations [@Mikolov2013].  This research will take an event-based approach and compare the use of Random Forest, Naive Bayes and Kernel Support Machine Models.  "
   ]
  },
  {
   "cell_type": "markdown",
   "metadata": {},
   "source": [
    "# Conditions and risk analysis"
   ]
  },
  {
   "cell_type": "markdown",
   "metadata": {},
   "source": [
    "## Resource Requirements\n",
    "This project will require access to the University of Cape Town's High Performance Computing Fascilities, this is required due to the size and complexity of the models estimated.  "
   ]
  },
  {
   "cell_type": "markdown",
   "metadata": {},
   "source": [
    "## Research Planning"
   ]
  },
  {
   "cell_type": "markdown",
   "metadata": {},
   "source": []
  },
  {
   "cell_type": "markdown",
   "metadata": {},
   "source": [
    "# Referrences"
   ]
  }
 ],
 "metadata": {
  "kernelspec": {
   "display_name": "Python 3",
   "language": "python",
   "name": "python3"
  },
  "language_info": {
   "codemirror_mode": {
    "name": "ipython",
    "version": 3
   },
   "file_extension": ".py",
   "mimetype": "text/x-python",
   "name": "python",
   "nbconvert_exporter": "python",
   "pygments_lexer": "ipython3",
   "version": "3.6.3"
  }
 },
 "nbformat": 4,
 "nbformat_minor": 2
}
