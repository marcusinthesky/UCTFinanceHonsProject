{
 "cells": [
  {
   "cell_type": "code",
   "execution_count": null,
   "metadata": {},
   "outputs": [],
   "source": [
    "! cd ./news_scraper\n",
    "! scrapy reuters -o ../data/reuters.jsonlines"
   ]
  },
  {
   "cell_type": "code",
   "execution_count": null,
   "metadata": {},
   "outputs": [],
   "source": [
    "! cd ./news_scraper\n",
    "! scrapy moneyweb_sens -o ../data/sens.jsonlines"
   ]
  },
  {
   "cell_type": "markdown",
   "metadata": {},
   "source": [
    "__Scrape Output__  \n",
    "2018-02-25 20:21:09 [scrapy.statscollectors] INFO: Dumping Scrapy stats:\n",
    "{'downloader/exception_count': 226,\n",
    " 'downloader/exception_type_count/twisted.internet.error.ConnectError': 189,\n",
    " 'downloader/exception_type_count/twisted.internet.error.TimeoutError': 24,\n",
    " 'downloader/exception_type_count/twisted.web._newclient.ResponseNeverReceived': 13,\n",
    " 'downloader/request_bytes': 31107338,\n",
    " 'downloader/request_count': 82480,\n",
    " 'downloader/request_method_count/GET': 82480,\n",
    " 'downloader/response_bytes': 1740190219,\n",
    " 'downloader/response_count': 82254,\n",
    " 'downloader/response_status_count/200': 81174,\n",
    " 'downloader/response_status_count/301': 1080,\n",
    " 'dupefilter/filtered': 833,\n",
    " 'finish_reason': 'finished',\n",
    " 'finish_time': datetime.datetime(2018, 2, 25, 18, 21, 9, 177320),\n",
    " 'item_scraped_count': 80093,\n",
    " 'log_count/DEBUG': 162575,\n",
    " 'log_count/INFO': 206,\n",
    " 'memusage/max': 180187136,\n",
    " 'memusage/startup': 50847744,\n",
    " 'request_depth_max': 2,\n",
    " 'response_received_count': 81174,\n",
    " 'retry/count': 226,\n",
    " 'retry/reason_count/twisted.internet.error.ConnectError': 189,\n",
    " 'retry/reason_count/twisted.internet.error.TimeoutError': 24,\n",
    " 'retry/reason_count/twisted.web._newclient.ResponseNeverReceived': 13,\n",
    " 'scheduler/dequeued': 82479,\n",
    " 'scheduler/dequeued/memory': 82479,\n",
    " 'scheduler/enqueued': 82479,\n",
    " 'scheduler/enqueued/memory': 82479,\n",
    " 'start_time': datetime.datetime(2018, 2, 25, 15, 2, 57, 461622)}\n",
    "2018-02-25 20:21:09 [scrapy.core.engine] INFO: Spider closed (finished)"
   ]
  }
 ],
 "metadata": {
  "kernelspec": {
   "display_name": "Python 3",
   "language": "python",
   "name": "python3"
  },
  "language_info": {
   "codemirror_mode": {
    "name": "ipython",
    "version": 3
   },
   "file_extension": ".py",
   "mimetype": "text/x-python",
   "name": "python",
   "nbconvert_exporter": "python",
   "pygments_lexer": "ipython3",
   "version": "3.6.3"
  }
 },
 "nbformat": 4,
 "nbformat_minor": 2
}
